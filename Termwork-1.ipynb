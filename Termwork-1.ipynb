{
 "cells": [
  {
   "cell_type": "markdown",
   "id": "51555a3d-a3b4-4aab-b88d-60bccbd0047e",
   "metadata": {},
   "source": [
    "# Termwork - 1"
   ]
  },
  {
   "cell_type": "markdown",
   "id": "31400c34-f7d9-4058-9947-212e8a60d572",
   "metadata": {},
   "source": [
    "### 1. Print all prime numbers between m and n "
   ]
  },
  {
   "cell_type": "code",
   "execution_count": 3,
   "id": "41e791f2-7e71-4e6f-998c-cc348424ac8e",
   "metadata": {},
   "outputs": [
    {
     "name": "stdin",
     "output_type": "stream",
     "text": [
      "Enter the start number: 5\n",
      "Enter the end number: 25\n"
     ]
    },
    {
     "name": "stdout",
     "output_type": "stream",
     "text": [
      "The Prime number from 5 to 25 are:\n",
      "5\n",
      "7\n",
      "11\n",
      "13\n",
      "17\n",
      "19\n",
      "23\n"
     ]
    }
   ],
   "source": [
    "def isPrime(n):\n",
    "    if n < 2:\n",
    "        return False\n",
    "    \n",
    "    for i in range(2, n):\n",
    "        if n % i == 0:\n",
    "            return False\n",
    "    return True\n",
    "\n",
    "def printPrimes(m, n):\n",
    "    for i in range(m, n + 1):\n",
    "        if isPrime(i):\n",
    "            print(i)\n",
    "\n",
    "m = int(input(\"Enter the start number:\"))\n",
    "n = int(input(\"Enter the end number:\"))\n",
    "\n",
    "print(f\"The Prime number from {m} to {n} are:\")\n",
    "printPrimes(m, n)"
   ]
  },
  {
   "cell_type": "markdown",
   "id": "df058a9b-320f-4db9-bed6-0862b7888983",
   "metadata": {},
   "source": [
    "### 2. Generate a random number between the range n1 and n2 , then find sum of all natural nos till that number  "
   ]
  },
  {
   "cell_type": "code",
   "execution_count": 7,
   "id": "95ff75d5",
   "metadata": {},
   "outputs": [
    {
     "name": "stdin",
     "output_type": "stream",
     "text": [
      "Enter the start number: 1\n",
      "Enter the end number: 50\n"
     ]
    },
    {
     "name": "stdout",
     "output_type": "stream",
     "text": [
      "The random number is 33\n",
      "The sum of all natural numbers till 33 is: 561\n"
     ]
    }
   ],
   "source": [
    "import numpy as np\n",
    "\n",
    "n1 = int(input(\"Enter the start number:\"))\n",
    "n2 = int(input(\"Enter the end number:\"))\n",
    "\n",
    "n3 = np.random.randint(n1, n2 + 1)\n",
    "\n",
    "print(f\"The random number is {n3}\")\n",
    "print(f\"The sum of all natural numbers till {n3} is: {n3*(n3 + 1)//2}\")"
   ]
  },
  {
   "cell_type": "markdown",
   "id": "2cd717cf-0155-4d22-aa35-6c4aa60d23dd",
   "metadata": {},
   "source": [
    "### 3. Generate a random number between the range n1 and n2 and store in variable n3, then find generate n3 random number and find their sum "
   ]
  },
  {
   "cell_type": "code",
   "execution_count": 10,
   "id": "fe45f9a8",
   "metadata": {},
   "outputs": [
    {
     "name": "stdin",
     "output_type": "stream",
     "text": [
      "Enter the start number: 1\n",
      "Enter the end number: 50\n"
     ]
    },
    {
     "name": "stdout",
     "output_type": "stream",
     "text": [
      "The random number is 33\n",
      "The sum of 33 random numbers is: 837\n"
     ]
    }
   ],
   "source": [
    "import numpy as np\n",
    "\n",
    "n1 = int(input(\"Enter the start number:\"))\n",
    "n2 = int(input(\"Enter the end number:\"))\n",
    "\n",
    "n3 = np.random.randint(n1, n2)\n",
    "\n",
    "sum = np.sum(np.random.randint(n1, n2, n3))\n",
    "    \n",
    "print(f\"The random number is {n3}\")    \n",
    "print(f\"The sum of {n3} random numbers is: {sum}\")\n",
    "    "
   ]
  },
  {
   "cell_type": "markdown",
   "id": "52bc8ac1-d1e8-43ed-ae37-c6fd0617a27e",
   "metadata": {},
   "source": [
    "### 4. Create a list with 100 random numbers and perform the following tasks. "
   ]
  },
  {
   "cell_type": "code",
   "execution_count": 35,
   "id": "26c22952",
   "metadata": {},
   "outputs": [
    {
     "name": "stdout",
     "output_type": "stream",
     "text": [
      "[96, 61, 12, 18, 6, 91, 80, 50, 74, 35, 42, 78, 70, 20, 79, 6, 19, 80, 24, 75, 51, 40, 17, 39, 53, 91, 54, 29, 37, 27, 76, 37, 74, 84, 99, 4, 70, 60, 91, 10, 62, 15, 72, 3, 57, 42, 89, 40, 8, 23, 5, 26, 83, 92, 82, 40, 60, 47, 3, 26, 50, 51, 81, 57, 83, 83, 63, 55, 26, 73, 9, 12, 43, 26, 86, 58, 93, 14, 3, 11, 56, 22, 58, 8, 83, 31, 31, 53, 72, 75, 42, 40, 2, 61, 40, 33, 67, 84, 94, 6]\n"
     ]
    }
   ],
   "source": [
    "l1 = [np.random.randint(100) for i  in range(100)]\n",
    "print(l1)"
   ]
  },
  {
   "cell_type": "markdown",
   "id": "9e31b0a4-9691-4c25-90cc-d5e2f19d8c5d",
   "metadata": {},
   "source": [
    "#### a. Display first 10 numbers"
   ]
  },
  {
   "cell_type": "code",
   "execution_count": 36,
   "id": "1cd9fe19",
   "metadata": {},
   "outputs": [
    {
     "name": "stdout",
     "output_type": "stream",
     "text": [
      "[96, 61, 12, 18, 6, 91, 80, 50, 74, 35]\n"
     ]
    }
   ],
   "source": [
    "print(l1[:10])"
   ]
  },
  {
   "cell_type": "markdown",
   "id": "59d0468f-2d68-4b1a-b8a4-f0a206ff541b",
   "metadata": {},
   "source": [
    "#### b. Display last 10 numbers "
   ]
  },
  {
   "cell_type": "code",
   "execution_count": 37,
   "id": "5baf3ce5",
   "metadata": {},
   "outputs": [
    {
     "name": "stdout",
     "output_type": "stream",
     "text": [
      "[42, 40, 2, 61, 40, 33, 67, 84, 94, 6]\n"
     ]
    }
   ],
   "source": [
    "print(l1[-10:])"
   ]
  },
  {
   "cell_type": "markdown",
   "id": "7cdb470b-cc33-45cf-a2d6-81777ab5de6d",
   "metadata": {},
   "source": [
    "#### c. Display first 10 even numbers "
   ]
  },
  {
   "cell_type": "code",
   "execution_count": 38,
   "id": "739415c8",
   "metadata": {},
   "outputs": [
    {
     "name": "stdout",
     "output_type": "stream",
     "text": [
      "96 12 18 6 80 50 74 42 78 70 "
     ]
    }
   ],
   "source": [
    "j = 10\n",
    "for i in l1:\n",
    "    if i % 2 == 0:\n",
    "        print(i, end=\" \")\n",
    "        j-=1\n",
    "        if j == 0:\n",
    "            break"
   ]
  },
  {
   "cell_type": "markdown",
   "id": "8cbf7bca-a19a-4f61-b234-da8afbb4a6e4",
   "metadata": {},
   "source": [
    "#### d. Sort the list in ascending and descending order"
   ]
  },
  {
   "cell_type": "code",
   "execution_count": 39,
   "id": "636d6939",
   "metadata": {},
   "outputs": [
    {
     "name": "stdout",
     "output_type": "stream",
     "text": [
      "The List in ascending order is:\n",
      "[2, 3, 3, 3, 4, 5, 6, 6, 6, 8, 8, 9, 10, 11, 12, 12, 14, 15, 17, 18, 19, 20, 22, 23, 24, 26, 26, 26, 26, 27, 29, 31, 31, 33, 35, 37, 37, 39, 40, 40, 40, 40, 40, 42, 42, 42, 43, 47, 50, 50, 51, 51, 53, 53, 54, 55, 56, 57, 57, 58, 58, 60, 60, 61, 61, 62, 63, 67, 70, 70, 72, 72, 73, 74, 74, 75, 75, 76, 78, 79, 80, 80, 81, 82, 83, 83, 83, 83, 84, 84, 86, 89, 91, 91, 91, 92, 93, 94, 96, 99]\n",
      "\n",
      "The List in descending order is:\n",
      "[99, 96, 94, 93, 92, 91, 91, 91, 89, 86, 84, 84, 83, 83, 83, 83, 82, 81, 80, 80, 79, 78, 76, 75, 75, 74, 74, 73, 72, 72, 70, 70, 67, 63, 62, 61, 61, 60, 60, 58, 58, 57, 57, 56, 55, 54, 53, 53, 51, 51, 50, 50, 47, 43, 42, 42, 42, 40, 40, 40, 40, 40, 39, 37, 37, 35, 33, 31, 31, 29, 27, 26, 26, 26, 26, 24, 23, 22, 20, 19, 18, 17, 15, 14, 12, 12, 11, 10, 9, 8, 8, 6, 6, 6, 5, 4, 3, 3, 3, 2]\n"
     ]
    }
   ],
   "source": [
    "l1.sort()\n",
    "print(f\"The List in ascending order is:\\n{l1}\", end=\"\\n\\n\")\n",
    "\n",
    "l1.sort(reverse=True)\n",
    "print(f\"The List in descending order is:\\n{l1}\")"
   ]
  },
  {
   "cell_type": "markdown",
   "id": "0968d66d-d1a7-4423-9b6f-d4be4edf7580",
   "metadata": {},
   "source": [
    "#### e. Search a given key element in a list "
   ]
  },
  {
   "cell_type": "code",
   "execution_count": 40,
   "id": "01811d4f",
   "metadata": {},
   "outputs": [
    {
     "name": "stdin",
     "output_type": "stream",
     "text": [
      "Enter the key Element: 56\n"
     ]
    },
    {
     "name": "stdout",
     "output_type": "stream",
     "text": [
      "Element 56 found at index 43\n"
     ]
    }
   ],
   "source": [
    "def search(l, key):\n",
    "    for i in range(0, len(l1)):\n",
    "        if(l1[i] == key):\n",
    "            return i\n",
    "    return -1\n",
    "        \n",
    "key = int(input(\"Enter the key Element:\"))\n",
    "i = search(l1, key)\n",
    "print(f\"Element {key} found at index {i}\" if i != -1 else f\"Element {key} not found\")"
   ]
  },
  {
   "cell_type": "markdown",
   "id": "5f19ca36-59fc-4dde-b5b5-1c28ee588a6e",
   "metadata": {},
   "source": [
    "#### f. Print the data type of a list "
   ]
  },
  {
   "cell_type": "code",
   "execution_count": 41,
   "id": "f5a67b45",
   "metadata": {},
   "outputs": [
    {
     "name": "stdout",
     "output_type": "stream",
     "text": [
      "<class 'list'>\n"
     ]
    }
   ],
   "source": [
    "print(type(l1))"
   ]
  },
  {
   "cell_type": "markdown",
   "id": "dbbe34f9-b651-4734-bb0a-f84b3dace5f7",
   "metadata": {},
   "source": [
    "#### g. Insert an element at a particular position "
   ]
  },
  {
   "cell_type": "code",
   "execution_count": 42,
   "id": "f9ac4327",
   "metadata": {},
   "outputs": [
    {
     "name": "stdin",
     "output_type": "stream",
     "text": [
      "Enter the element to be inserted:  5\n",
      "Enter the position: 10\n"
     ]
    },
    {
     "name": "stdout",
     "output_type": "stream",
     "text": [
      "The list after insertion:\n",
      "[99, 96, 94, 93, 92, 91, 91, 91, 89, 86, 5, 84, 84, 83, 83, 83, 83, 82, 81, 80, 80, 79, 78, 76, 75, 75, 74, 74, 73, 72, 72, 70, 70, 67, 63, 62, 61, 61, 60, 60, 58, 58, 57, 57, 56, 55, 54, 53, 53, 51, 51, 50, 50, 47, 43, 42, 42, 42, 40, 40, 40, 40, 40, 39, 37, 37, 35, 33, 31, 31, 29, 27, 26, 26, 26, 26, 24, 23, 22, 20, 19, 18, 17, 15, 14, 12, 12, 11, 10, 9, 8, 8, 6, 6, 6, 5, 4, 3, 3, 3, 2]\n"
     ]
    }
   ],
   "source": [
    "ele = int(input(\"Enter the element to be inserted: \"))\n",
    "pos = int(input(\"Enter the position:\"))\n",
    "l1.insert(pos, ele)\n",
    "print(f\"The list after insertion:\\n{l1}\")"
   ]
  },
  {
   "cell_type": "markdown",
   "id": "e8d75eae-f327-4e2d-bd12-67fe39c8c888",
   "metadata": {},
   "source": [
    "#### h. Append an element at end of the list "
   ]
  },
  {
   "cell_type": "code",
   "execution_count": 43,
   "id": "dbf71b08",
   "metadata": {},
   "outputs": [
    {
     "name": "stdin",
     "output_type": "stream",
     "text": [
      "Enter the element to be inserted:  10\n"
     ]
    },
    {
     "name": "stdout",
     "output_type": "stream",
     "text": [
      "List after appending element 10 is:\n",
      "[99, 96, 94, 93, 92, 91, 91, 91, 89, 86, 5, 84, 84, 83, 83, 83, 83, 82, 81, 80, 80, 79, 78, 76, 75, 75, 74, 74, 73, 72, 72, 70, 70, 67, 63, 62, 61, 61, 60, 60, 58, 58, 57, 57, 56, 55, 54, 53, 53, 51, 51, 50, 50, 47, 43, 42, 42, 42, 40, 40, 40, 40, 40, 39, 37, 37, 35, 33, 31, 31, 29, 27, 26, 26, 26, 26, 24, 23, 22, 20, 19, 18, 17, 15, 14, 12, 12, 11, 10, 9, 8, 8, 6, 6, 6, 5, 4, 3, 3, 3, 2, 10]\n"
     ]
    }
   ],
   "source": [
    "ele = int(input(\"Enter the element to be inserted: \"))\n",
    "l1.append(ele)\n",
    "print(f\"List after appending element {ele} is:\\n{l1}\")"
   ]
  },
  {
   "cell_type": "markdown",
   "id": "6e452397-b665-4d82-a831-94f035e00a32",
   "metadata": {},
   "source": [
    "### 5. Create two list with elements 10 and 10. "
   ]
  },
  {
   "cell_type": "code",
   "execution_count": 52,
   "id": "9aae61af",
   "metadata": {},
   "outputs": [
    {
     "name": "stdout",
     "output_type": "stream",
     "text": [
      "Contents of list 1 are:\n",
      "[1, 2, 3, 4, 5, 6, 7, 8, 9, 10]\n",
      "Contents of list 2 are:\n",
      "[1, 3, 5, 7, 9, 11, 13, 15, 17, 19]\n"
     ]
    }
   ],
   "source": [
    "l1 = list(range(1, 11))\n",
    "l2 = list(range(1, 21, 2))\n",
    "print(f\"Contents of list 1 are:\\n{l1}\")\n",
    "print(f\"Contents of list 2 are:\\n{l2}\")"
   ]
  },
  {
   "cell_type": "markdown",
   "id": "37a8fef6-8869-4e0a-9b52-81009adb12e4",
   "metadata": {},
   "source": [
    "#### a. Add the elements of second list to first"
   ]
  },
  {
   "cell_type": "code",
   "execution_count": 53,
   "id": "95bdf739-f356-429f-992f-540d94ba16bb",
   "metadata": {},
   "outputs": [
    {
     "name": "stdout",
     "output_type": "stream",
     "text": [
      "The list 1 after adding elements of list 2:\n",
      "[1, 2, 3, 4, 5, 6, 7, 8, 9, 10, 1, 3, 5, 7, 9, 11, 13, 15, 17, 19]\n"
     ]
    }
   ],
   "source": [
    "l1.extend(l2)\n",
    "print(f\"The list 1 after adding elements of list 2:\\n{l1}\")"
   ]
  },
  {
   "cell_type": "markdown",
   "id": "a4a73687-2746-4c5b-a5eb-fef5c1e59885",
   "metadata": {},
   "source": [
    "#### b. Remove the second item from the list using pop function "
   ]
  },
  {
   "cell_type": "code",
   "execution_count": 54,
   "id": "b6711b9a-0cb0-4a17-8512-8460e6555181",
   "metadata": {},
   "outputs": [
    {
     "name": "stdout",
     "output_type": "stream",
     "text": [
      "List 1 after removing second item:\n",
      "[1, 3, 4, 5, 6, 7, 8, 9, 10, 1, 3, 5, 7, 9, 11, 13, 15, 17, 19]\n"
     ]
    }
   ],
   "source": [
    "l1.pop(1)\n",
    "print(f\"List 1 after removing second item:\\n{l1}\")"
   ]
  },
  {
   "cell_type": "markdown",
   "id": "c50d2ba6-2473-4c82-823f-15a96931be00",
   "metadata": {},
   "source": [
    "#### c. Remove the last item "
   ]
  },
  {
   "cell_type": "code",
   "execution_count": 55,
   "id": "79f9ec04-2e95-4e8c-b037-8c41a21ed057",
   "metadata": {},
   "outputs": [
    {
     "name": "stdout",
     "output_type": "stream",
     "text": [
      "List 1 after removing the last item:\n",
      "[1, 3, 4, 5, 6, 7, 8, 9, 10, 1, 3, 5, 7, 9, 11, 13, 15, 17]\n"
     ]
    }
   ],
   "source": [
    "l1.pop()\n",
    "print(f\"List 1 after removing the last item:\\n{l1}\")"
   ]
  },
  {
   "cell_type": "markdown",
   "id": "847e0a95-3f35-4f4e-afa6-5d7d7c456966",
   "metadata": {},
   "source": [
    "### 6. Create a list of fruits "
   ]
  },
  {
   "cell_type": "code",
   "execution_count": 56,
   "id": "12d5029d",
   "metadata": {},
   "outputs": [
    {
     "name": "stdout",
     "output_type": "stream",
     "text": [
      "Contents of list:\n",
      "['apple', 'orange', 'banana', 'kiwi', 'pineapple']\n"
     ]
    }
   ],
   "source": [
    "fruits = [\"apple\", \"orange\", \"banana\", \"kiwi\", \"pineapple\"]\n",
    "print(f\"Contents of list:\\n{fruits}\")"
   ]
  },
  {
   "cell_type": "markdown",
   "id": "ecb2ece1-d1e6-4423-8ff2-6e1d37d009d0",
   "metadata": {},
   "source": [
    "#### a. Based on a list of fruits, form a new list, containing only the fruits with the letter \"a\" in the name."
   ]
  },
  {
   "cell_type": "code",
   "execution_count": 57,
   "id": "bb8c4534-56e1-4ee6-8089-89b65353298f",
   "metadata": {},
   "outputs": [
    {
     "name": "stdout",
     "output_type": "stream",
     "text": [
      "['apple', 'orange', 'banana', 'pineapple']\n"
     ]
    }
   ],
   "source": [
    "l1 = [fruit for fruit in fruits if \"a\" in fruit]\n",
    "print(l1)"
   ]
  },
  {
   "cell_type": "markdown",
   "id": "928b231a-ad7e-4108-a6ff-7ca8b62c21f8",
   "metadata": {},
   "source": [
    "#### b. Only accept items that are not \"apple\""
   ]
  },
  {
   "cell_type": "code",
   "execution_count": 60,
   "id": "c53d82b9-80b8-4cd1-81c1-de939e431dd1",
   "metadata": {},
   "outputs": [
    {
     "name": "stdout",
     "output_type": "stream",
     "text": [
      "['orange', 'banana', 'kiwi', 'pineapple']\n"
     ]
    }
   ],
   "source": [
    "l2 = [fruit for fruit in fruits if fruit != \"apple\"]\n",
    "print(l2)"
   ]
  },
  {
   "cell_type": "markdown",
   "id": "3ebc1da5-876c-4451-94b4-c243798a9b7a",
   "metadata": {},
   "source": [
    "### 7. Create a two matrices"
   ]
  },
  {
   "cell_type": "code",
   "execution_count": 63,
   "id": "d4588d62",
   "metadata": {},
   "outputs": [
    {
     "name": "stdout",
     "output_type": "stream",
     "text": [
      "Contents of matrix 1:\n",
      "[[1, 2, 3], [4, 5, 6], [7, 8, 9]]\n",
      "\n",
      "Contents of matrix 2:\n",
      "[[2, 4, 6], [8, 10, 12], [14, 16, 18]]\n"
     ]
    }
   ],
   "source": [
    "mat1 = [[1, 2, 3], [4, 5, 6], [7, 8, 9]]\n",
    "mat2 = [[2, 4, 6], [8, 10, 12], [14, 16, 18]]\n",
    "\n",
    "print(f\"Contents of matrix 1:\\n{mat1}\", end=\"\\n\\n\")\n",
    "print(f\"Contents of matrix 2:\\n{mat2}\")"
   ]
  },
  {
   "cell_type": "markdown",
   "id": "e382deb7-181e-48c4-8d2c-32ba875e729c",
   "metadata": {},
   "source": [
    "#### a. add two matrix with a for loop"
   ]
  },
  {
   "cell_type": "code",
   "execution_count": 65,
   "id": "e1457160",
   "metadata": {},
   "outputs": [
    {
     "name": "stdout",
     "output_type": "stream",
     "text": [
      "The resultant matrix is:\n",
      "[[3, 6, 9], [12, 15, 18], [21, 24, 27]]\n"
     ]
    }
   ],
   "source": [
    "mat3 = []\n",
    "for i in range(len(mat1)):\n",
    "    l = []\n",
    "    for j in range(len(mat1[0])):\n",
    "        l.append(mat1[i][j] + mat2[i][j])\n",
    "    mat3.append(l)\n",
    "    \n",
    "print(f\"The resultant matrix is:\\n{mat3}\")"
   ]
  },
  {
   "cell_type": "markdown",
   "id": "83d6d8ec-6485-4a8e-9fd2-7d0baa2ebfff",
   "metadata": {},
   "source": [
    "#### b. Adding and subtracting values to a matrix with list comprehension "
   ]
  },
  {
   "cell_type": "code",
   "execution_count": 67,
   "id": "881a9113-2254-4429-8b09-02b3250848ef",
   "metadata": {},
   "outputs": [
    {
     "name": "stdin",
     "output_type": "stream",
     "text": [
      "Enter a number: 4\n"
     ]
    },
    {
     "name": "stdout",
     "output_type": "stream",
     "text": [
      "Matrix 1 after adding 4:\n",
      "[[5, 6, 7], [8, 9, 10], [11, 12, 13]]\n",
      "\n",
      "Matrix 1 after subtracting 4:\n",
      "[[-3, -2, -1], [0, 1, 2], [3, 4, 5]]\n"
     ]
    }
   ],
   "source": [
    "n = int(input(\"Enter a number:\"))\n",
    "mat4 = [[j + n for j in i] for i in mat1]\n",
    "print(f\"Matrix 1 after adding {n}:\\n{mat4}\", end=\"\\n\\n\")\n",
    "mat5 = [[j - n for j in i] for i in mat1]\n",
    "print(f\"Matrix 1 after subtracting {n}:\\n{mat5}\")"
   ]
  },
  {
   "cell_type": "markdown",
   "id": "360d3a08-9b0e-48f3-ae69-a7ea7f6ba90b",
   "metadata": {},
   "source": [
    "### 8. Create a dictionary with key value pairs as country with its capital "
   ]
  },
  {
   "cell_type": "code",
   "execution_count": 68,
   "id": "4b1f4350",
   "metadata": {},
   "outputs": [
    {
     "name": "stdout",
     "output_type": "stream",
     "text": [
      "Contents of dictionary:\n",
      "{'India': 'New Delhi', 'Russia': 'Moscow', 'United Kingdom': 'London', 'Germany': 'Berlin', 'Spain': 'Madrid', 'Ukraine': 'Kiev'}\n"
     ]
    }
   ],
   "source": [
    "d1 = {\n",
    "    \"India\": \"New Delhi\",\n",
    "    \"Russia\": \"Moscow\",\n",
    "    \"United Kingdom\": \"London\",\n",
    "    \"Germany\": \"Berlin\",\n",
    "    \"Spain\": \"Madrid\",\n",
    "    \"Ukraine\": \"Kiev\",\n",
    "}\n",
    "\n",
    "print(f\"Contents of dictionary:\\n{d1}\")"
   ]
  },
  {
   "cell_type": "markdown",
   "id": "2c879541-733a-4171-bd3f-1544879ef71e",
   "metadata": {},
   "source": [
    "#### a. Print the capital of a given country "
   ]
  },
  {
   "cell_type": "code",
   "execution_count": 70,
   "id": "a84d57a4-f414-46c5-9fd2-55e1cf60fda2",
   "metadata": {},
   "outputs": [
    {
     "name": "stdin",
     "output_type": "stream",
     "text": [
      "Enter the country: India\n"
     ]
    },
    {
     "name": "stdout",
     "output_type": "stream",
     "text": [
      "The capital of India is New Delhi\n"
     ]
    }
   ],
   "source": [
    "country = input(\"Enter the country:\")\n",
    "print(f\"The capital of {country} is {d1[country]}\")"
   ]
  },
  {
   "cell_type": "markdown",
   "id": "8fa2d02a-198f-4c76-a705-61dcab2e6a27",
   "metadata": {},
   "source": [
    "#### b. Print the  list of the values of dictionary and a list of the keys"
   ]
  },
  {
   "cell_type": "code",
   "execution_count": 71,
   "id": "2e357c1f-e895-4f17-8e10-ca227fc95af1",
   "metadata": {},
   "outputs": [
    {
     "name": "stdout",
     "output_type": "stream",
     "text": [
      "List of keys: ['India', 'Russia', 'United Kingdom', 'Germany', 'Spain', 'Ukraine']\n",
      "List of values: ['New Delhi', 'Moscow', 'London', 'Berlin', 'Madrid', 'Kiev']\n"
     ]
    }
   ],
   "source": [
    "print(f\"List of keys: {list(d1.keys())}\")\n",
    "print(f\"List of values: {list(d1.values())}\")"
   ]
  },
  {
   "cell_type": "markdown",
   "id": "0ef8f036-e4ae-4c31-8c2b-e43bc444dd8b",
   "metadata": {},
   "source": [
    "#### c. Add a new item to the original dictionary "
   ]
  },
  {
   "cell_type": "code",
   "execution_count": 72,
   "id": "367181f9-2001-4fe1-8772-42d7a31ea2a3",
   "metadata": {},
   "outputs": [
    {
     "name": "stdin",
     "output_type": "stream",
     "text": [
      "Enter the country: Italy\n",
      "Enter the capital: Rome\n"
     ]
    },
    {
     "name": "stdout",
     "output_type": "stream",
     "text": [
      "Contents of dictionary after adding new item:\n",
      "{'India': 'New Delhi', 'Russia': 'Moscow', 'United Kingdom': 'London', 'Germany': 'Berlin', 'Spain': 'Madrid', 'Ukraine': 'Kiev', 'Italy': 'Rome'}\n"
     ]
    }
   ],
   "source": [
    "country = input(\"Enter the country:\")\n",
    "capital = input(\"Enter the capital:\")\n",
    "d1.update({country : capital})\n",
    "print(f\"Contents of dictionary after adding new item:\\n{d1}\")"
   ]
  },
  {
   "cell_type": "markdown",
   "id": "0e5d5854-084a-434a-b9b0-44d16edb807f",
   "metadata": {},
   "source": [
    "#### d. Print a list of the country:capital pairs "
   ]
  },
  {
   "cell_type": "code",
   "execution_count": 74,
   "id": "0d7d17c3-6693-4f4e-974f-5096cf4f4bef",
   "metadata": {},
   "outputs": [
    {
     "name": "stdout",
     "output_type": "stream",
     "text": [
      "['India:New Delhi', 'Russia:Moscow', 'United Kingdom:London', 'Germany:Berlin', 'Spain:Madrid', 'Ukraine:Kiev', 'Italy:Rome']\n"
     ]
    }
   ],
   "source": [
    "print([f\"{country}:{capital}\" for country, capital in d1.items()])"
   ]
  },
  {
   "cell_type": "markdown",
   "id": "9b219919-7842-4875-ade3-58483cdcdb67",
   "metadata": {},
   "source": [
    "### 9. Create a dictionary that contains three dictionaries related to student information having name, usn, year of passing as parameters and Print the name of 2 student"
   ]
  },
  {
   "cell_type": "code",
   "execution_count": 76,
   "id": "9b2a5718-e811-4664-9e8a-56b27d5c66f0",
   "metadata": {},
   "outputs": [
    {
     "name": "stdout",
     "output_type": "stream",
     "text": [
      "Names of two students:\n",
      "1. Joy\n",
      "2. Pratham\n"
     ]
    }
   ],
   "source": [
    "students = {\n",
    "    \"student1\": {\"name\": \"Joy\", \"usn\": \"038\", \"year_of_passing\": 2026},\n",
    "    \"student2\": {\"name\": \"Pratham\", \"usn\": \"063\", \"year_of_passing\": 2026},\n",
    "    \"student3\": {\"name\": \"Abdul\", \"usn\": \"001\", \"year_of_passing\": 2026}\n",
    "}\n",
    "\n",
    "print(\"Names of two students:\")\n",
    "print(\"1.\", students[\"student1\"][\"name\"])\n",
    "print(\"2.\", students[\"student2\"][\"name\"])"
   ]
  },
  {
   "cell_type": "markdown",
   "id": "409fc0a4-4ca1-4116-8621-251924428da2",
   "metadata": {},
   "source": [
    "### 10. Implement a TIC-TAC-TOE game.  "
   ]
  },
  {
   "cell_type": "code",
   "execution_count": 80,
   "id": "28bf62a9",
   "metadata": {},
   "outputs": [
    {
     "name": "stdout",
     "output_type": "stream",
     "text": [
      "   |   |   \n",
      "-----------\n",
      "   |   |   \n",
      "-----------\n",
      "   |   |   \n",
      "Player X Turn\n"
     ]
    },
    {
     "name": "stdin",
     "output_type": "stream",
     "text": [
      "Enter the row: 0\n",
      "Enter the col: 0\n"
     ]
    },
    {
     "name": "stdout",
     "output_type": "stream",
     "text": [
      "\n",
      " X |   |   \n",
      "-----------\n",
      "   |   |   \n",
      "-----------\n",
      "   |   |   \n",
      "Player O Turn\n"
     ]
    },
    {
     "name": "stdin",
     "output_type": "stream",
     "text": [
      "Enter the row: 0\n",
      "Enter the col: 1\n"
     ]
    },
    {
     "name": "stdout",
     "output_type": "stream",
     "text": [
      "\n",
      " X | O |   \n",
      "-----------\n",
      "   |   |   \n",
      "-----------\n",
      "   |   |   \n",
      "Player X Turn\n"
     ]
    },
    {
     "name": "stdin",
     "output_type": "stream",
     "text": [
      "Enter the row: 1\n",
      "Enter the col: 0\n"
     ]
    },
    {
     "name": "stdout",
     "output_type": "stream",
     "text": [
      "\n",
      " X | O |   \n",
      "-----------\n",
      " X |   |   \n",
      "-----------\n",
      "   |   |   \n",
      "Player O Turn\n"
     ]
    },
    {
     "name": "stdin",
     "output_type": "stream",
     "text": [
      "Enter the row: 2\n",
      "Enter the col: 0\n"
     ]
    },
    {
     "name": "stdout",
     "output_type": "stream",
     "text": [
      "\n",
      " X | O |   \n",
      "-----------\n",
      " X |   |   \n",
      "-----------\n",
      " O |   |   \n",
      "Player X Turn\n"
     ]
    },
    {
     "name": "stdin",
     "output_type": "stream",
     "text": [
      "Enter the row: 1\n",
      "Enter the col: 1\n"
     ]
    },
    {
     "name": "stdout",
     "output_type": "stream",
     "text": [
      "\n",
      " X | O |   \n",
      "-----------\n",
      " X | X |   \n",
      "-----------\n",
      " O |   |   \n",
      "Player O Turn\n"
     ]
    },
    {
     "name": "stdin",
     "output_type": "stream",
     "text": [
      "Enter the row: 1\n",
      "Enter the col: 2\n"
     ]
    },
    {
     "name": "stdout",
     "output_type": "stream",
     "text": [
      "\n",
      " X | O |   \n",
      "-----------\n",
      " X | X | O \n",
      "-----------\n",
      " O |   |   \n",
      "Player X Turn\n"
     ]
    },
    {
     "name": "stdin",
     "output_type": "stream",
     "text": [
      "Enter the row: 2\n",
      "Enter the col: 2\n"
     ]
    },
    {
     "name": "stdout",
     "output_type": "stream",
     "text": [
      "\n",
      " X | O |   \n",
      "-----------\n",
      " X | X | O \n",
      "-----------\n",
      " O |   | X \n",
      "Player X Won\n"
     ]
    }
   ],
   "source": [
    "board = [[\" \", \" \", \" \"], [\" \", \" \", \" \"], [\" \", \" \", \" \"]]\n",
    "player = True\n",
    "\n",
    "def printBoard():\n",
    "    for row in range(3):\n",
    "        i, j, k = board[row][0], board[row][1], board[row][2] \n",
    "        print(f\" {i} | {j} | {k} \")\n",
    "        if(row != 2):\n",
    "            print(\"-----------\")\n",
    "\n",
    "def checkWin():\n",
    "    for i in range(3):\n",
    "        if board[i][0] == board[i][1] == board[i][2] and board[i][0] != \" \":\n",
    "            return True\n",
    "        elif board[0][i] == board[1][i] == board[2][i] and board[0][i] != \" \":\n",
    "            return True\n",
    "        \n",
    "    if board[0][0] == board[1][1] == board[2][2] and board[0][0] != \" \":\n",
    "        return True\n",
    "    \n",
    "    if board[0][2] == board[1][1] == board[2][0] and board[0][2] != \" \":\n",
    "        return True\n",
    "    \n",
    "    return False\n",
    "\n",
    "turn = 9\n",
    "while(turn != 0):\n",
    "    printBoard()\n",
    "    if player:\n",
    "        print(f\"Player X Turn\")\n",
    "    else:\n",
    "        print(f\"Player O Turn\")\n",
    "    x = int(input(\"Enter the row:\"))\n",
    "    y = int(input(\"Enter the col:\"))\n",
    "    print()\n",
    "    if 0 <= x < 3 and 0 <= y < 3 and board[x][y] == \" \":\n",
    "        board[x][y] = \"X\" if player else \"O\"\n",
    "        turn -= 1\n",
    "        if checkWin():\n",
    "            printBoard()\n",
    "            if player:\n",
    "                print(f\"Player X Won\")\n",
    "            else:\n",
    "                print(f\"Player O Won\")\n",
    "            break\n",
    "        elif turn == 0:\n",
    "            printBoard()\n",
    "            print(\"Draw\")\n",
    "            break\n",
    "        player = not player\n",
    "    else:\n",
    "        print(\"Invalid row or col\")"
   ]
  }
 ],
 "metadata": {
  "kernelspec": {
   "display_name": "Python 3 (ipykernel)",
   "language": "python",
   "name": "python3"
  },
  "language_info": {
   "codemirror_mode": {
    "name": "ipython",
    "version": 3
   },
   "file_extension": ".py",
   "mimetype": "text/x-python",
   "name": "python",
   "nbconvert_exporter": "python",
   "pygments_lexer": "ipython3",
   "version": "3.11.4"
  }
 },
 "nbformat": 4,
 "nbformat_minor": 5
}
