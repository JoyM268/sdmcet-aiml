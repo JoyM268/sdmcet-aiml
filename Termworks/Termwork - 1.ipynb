{
 "cells": [
  {
   "cell_type": "markdown",
   "id": "56062269-5da5-463f-9069-08c198279774",
   "metadata": {},
   "source": [
    "## 1. Write a program to design a TIC TAC TOE game, a game in which two players alternatively put 0s and 3 X 3 matrix and each player tries to get a row/column/diagonal of three 1s or three 0s before the opponent does."
   ]
  },
  {
   "cell_type": "markdown",
   "id": "26714186-eec0-421b-8bda-955c4bbd0e84",
   "metadata": {},
   "source": [
    "#### Used Minimax Algorithm"
   ]
  },
  {
   "cell_type": "code",
   "execution_count": 2,
   "id": "8038518a-c5a1-461e-870d-56911a3b34c0",
   "metadata": {},
   "outputs": [
    {
     "name": "stdin",
     "output_type": "stream",
     "text": [
      "Choose X or O: X\n"
     ]
    },
    {
     "name": "stdout",
     "output_type": "stream",
     "text": [
      "\n",
      "   |   |   \n",
      "------------\n",
      "   |   |   \n",
      "------------\n",
      "   |   |   \n",
      "\n",
      "Player(X) Turn\n"
     ]
    },
    {
     "name": "stdin",
     "output_type": "stream",
     "text": [
      "Enter the row: 0\n",
      "Enter the col: 0\n"
     ]
    },
    {
     "name": "stdout",
     "output_type": "stream",
     "text": [
      "\n",
      " X |   |   \n",
      "------------\n",
      "   | O |   \n",
      "------------\n",
      "   |   |   \n",
      "\n",
      "Player(X) Turn\n"
     ]
    },
    {
     "name": "stdin",
     "output_type": "stream",
     "text": [
      "Enter the row: 1\n",
      "Enter the col: 0\n"
     ]
    },
    {
     "name": "stdout",
     "output_type": "stream",
     "text": [
      "\n",
      " X |   |   \n",
      "------------\n",
      " X | O |   \n",
      "------------\n",
      " O |   |   \n",
      "\n",
      "Player(X) Turn\n"
     ]
    },
    {
     "name": "stdin",
     "output_type": "stream",
     "text": [
      "Enter the row: 0\n",
      "Enter the col: 2\n"
     ]
    },
    {
     "name": "stdout",
     "output_type": "stream",
     "text": [
      "\n",
      " X | O | X \n",
      "------------\n",
      " X | O |   \n",
      "------------\n",
      " O |   |   \n",
      "\n",
      "Player(X) Turn\n"
     ]
    },
    {
     "name": "stdin",
     "output_type": "stream",
     "text": [
      "Enter the row: 2\n",
      "Enter the col: 1\n"
     ]
    },
    {
     "name": "stdout",
     "output_type": "stream",
     "text": [
      "\n",
      " X | O | X \n",
      "------------\n",
      " X | O | O \n",
      "------------\n",
      " O | X |   \n",
      "\n",
      "Player(X) Turn\n"
     ]
    },
    {
     "name": "stdin",
     "output_type": "stream",
     "text": [
      "Enter the row: 3\n",
      "Enter the col: 3\n"
     ]
    },
    {
     "name": "stdout",
     "output_type": "stream",
     "text": [
      "Invalid move, Try again.\n",
      "\n",
      " X | O | X \n",
      "------------\n",
      " X | O | O \n",
      "------------\n",
      " O | X |   \n",
      "\n",
      "Player(X) Turn\n"
     ]
    },
    {
     "name": "stdin",
     "output_type": "stream",
     "text": [
      "Enter the row: 2\n",
      "Enter the col: 2\n"
     ]
    },
    {
     "name": "stdout",
     "output_type": "stream",
     "text": [
      "\n",
      " X | O | X \n",
      "------------\n",
      " X | O | O \n",
      "------------\n",
      " O | X | X \n",
      "\n",
      "Draw\n"
     ]
    }
   ],
   "source": [
    "import math\n",
    "\n",
    "def printBoard(board):\n",
    "    print()\n",
    "    for i in range(3):\n",
    "        c0, c1, c2 = board[i][0], board[i][1], board[i][2]\n",
    "        print(f\" {c0} | {c1} | {c2} \")\n",
    "        if i == 2: break\n",
    "        print(\"------------\")\n",
    "    print()\n",
    "    \n",
    "def checkWin(board, player):\n",
    "    for i in range(3):\n",
    "        if board[i][0] == board[i][1] == board[i][2] != \" \":\n",
    "            if board[i][0] == player:\n",
    "                return -10\n",
    "            else:\n",
    "                return 10\n",
    "\n",
    "        if board[0][i] == board[1][i] == board[2][i] != \" \":\n",
    "            if board[0][i] == player:\n",
    "                return -10\n",
    "            else:\n",
    "                return 10\n",
    "    \n",
    "    if board[0][0] == board[1][1] == board[2][2] != \" \":\n",
    "        if board[0][0] == player:\n",
    "            return -10\n",
    "        else:\n",
    "            return 10\n",
    "\n",
    "    if board[0][2] == board[1][1] == board[2][0] != \" \":\n",
    "        if board[0][2] == player:\n",
    "            return -10\n",
    "        else:\n",
    "            return 10\n",
    "    \n",
    "    return 0\n",
    "\n",
    "\n",
    "def minimax(board, depth, player, computer, isMax, turn):\n",
    "    eval = checkWin(board, player)\n",
    "    if eval == -10 or eval == 10 or turn == 9:\n",
    "        return eval, depth\n",
    "     \n",
    "    if isMax:  \n",
    "        minDepth = math.inf\n",
    "        best = -math.inf\n",
    "        for i in range(3):\n",
    "            for j in range(3):\n",
    "                if board[i][j] == \" \":\n",
    "                    board[i][j] = computer\n",
    "                    score, tDepth = minimax(board, depth + 1, player, computer, not isMax, turn + 1)\n",
    "                    if best < score:\n",
    "                        best = score\n",
    "                        minDepth = tDepth\n",
    "                    elif best == score and minDepth > tDepth:\n",
    "                        minDepth = tDepth\n",
    "                    board[i][j] = \" \"\n",
    "        return best, minDepth\n",
    "    else:\n",
    "        best = math.inf\n",
    "        for i in range(3):\n",
    "            for j in range(3):\n",
    "                if board[i][j] == \" \":\n",
    "                    board[i][j] = player\n",
    "                    score, tDepth = minimax(board, depth + 1, player, computer, not isMax, turn + 1) \n",
    "                    if best > score:\n",
    "                        best = score\n",
    "                        minDepth = tDepth\n",
    "                    elif best == score and minDepth > tDepth:\n",
    "                        minDepth = tDepth\n",
    "                    board[i][j] = \" \"\n",
    "                    \n",
    "        return best, minDepth\n",
    "                            \n",
    "def bestMove(board, player, computer, turn):\n",
    "    bestVal = -math.inf\n",
    "    move = (-1, -1)\n",
    "    minDepth = math.inf\n",
    "    \n",
    "    for i in range(3):\n",
    "        for j in range(3):\n",
    "            if board[i][j] == \" \":\n",
    "                board[i][j] = computer\n",
    "                val, depth =  minimax(board, 0, player, computer, False, turn + 1)\n",
    "                board[i][j] = \" \"\n",
    "                \n",
    "                if val > bestVal:\n",
    "                    move = (i, j)\n",
    "                    bestVal = val\n",
    "                    minDepth = depth\n",
    "                elif val == bestVal and depth < minDepth:\n",
    "                    minDepth = depth\n",
    "                    move = (i, j)\n",
    "    \n",
    "    return move\n",
    "            \n",
    "    \n",
    "def startGame():\n",
    "    board = [[\" \" for j in range(3)] for i in range(3)]\n",
    "    turn = 0\n",
    "    choice = [\"X\", \"O\"]\n",
    "    \n",
    "    while True:\n",
    "        player = input(\"Choose X or O:\").upper()\n",
    "        if player in choice:\n",
    "            computer = \"X\" if player == \"O\" else \"O\"\n",
    "            break\n",
    "        else:\n",
    "            print(\"Invalid choice, Try again.\")\n",
    "        \n",
    "    while True:        \n",
    "        current = choice[turn % 2]\n",
    "        \n",
    "        i = -1\n",
    "        j = -1\n",
    "        if current == computer:\n",
    "            i, j = bestMove(board, player, computer, turn)\n",
    "        else:\n",
    "            printBoard(board)\n",
    "            print(f\"Player({player}) Turn\")\n",
    "            i = int(input(\"Enter the row:\"))\n",
    "            j = int(input(\"Enter the col:\"))\n",
    "            \n",
    "            if not (i >= 0  and i <= 2 and j >= 0 and j <= 2 and board[i][j] == \" \"):\n",
    "                print(\"Invalid move, Try again.\")\n",
    "                continue\n",
    "        \n",
    "        board[i][j] = current\n",
    "        turn += 1\n",
    "        \n",
    "        score = checkWin(board, player)\n",
    "        if score == 10:\n",
    "            printBoard(board)\n",
    "            print(f\"Computer({computer}) Won\")\n",
    "            break\n",
    "        elif score == -10:\n",
    "            printBoard(board)\n",
    "            print(f\"Player({player}) Won\")\n",
    "            break\n",
    "        elif turn == 9:\n",
    "            printBoard(board)\n",
    "            print(\"Draw\")\n",
    "            break\n",
    "            \n",
    "startGame()\n",
    "    "
   ]
  }
 ],
 "metadata": {
  "kernelspec": {
   "display_name": "Python 3 (ipykernel)",
   "language": "python",
   "name": "python3"
  },
  "language_info": {
   "codemirror_mode": {
    "name": "ipython",
    "version": 3
   },
   "file_extension": ".py",
   "mimetype": "text/x-python",
   "name": "python",
   "nbconvert_exporter": "python",
   "pygments_lexer": "ipython3",
   "version": "3.11.4"
  }
 },
 "nbformat": 4,
 "nbformat_minor": 5
}
