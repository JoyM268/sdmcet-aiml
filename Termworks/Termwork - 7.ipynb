{
 "cells": [
  {
   "cell_type": "markdown",
   "id": "a4e2c14b-76fd-4ceb-a681-95a9c1dfc18c",
   "metadata": {},
   "source": [
    "## 7. Write a program to implement the naive bayesian classifier for given dataset. Compute accuracy of the classifier."
   ]
  },
  {
   "cell_type": "markdown",
   "id": "d570dc24-8873-4dec-ab3d-a6103db224c8",
   "metadata": {},
   "source": [
    "### From Scratch 1"
   ]
  },
  {
   "cell_type": "code",
   "execution_count": 30,
   "id": "01a6eaae-7b24-41fa-93d6-8f7b8501065e",
   "metadata": {},
   "outputs": [
    {
     "name": "stdout",
     "output_type": "stream",
     "text": [
      "Accuracy of Naive Bayes classifier: 80.00%\n"
     ]
    }
   ],
   "source": [
    "import pandas as pd\n",
    "import numpy as np\n",
    "from sklearn.model_selection import train_test_split\n",
    "from sklearn.metrics import accuracy_score\n",
    "\n",
    "data = {\n",
    "    \"Outlook\": [\"Sunny\", \"Sunny\", \"Overcast\", \"Rain\", \"Rain\", \"Rain\", \"Overcast\", \"Sunny\", \"Sunny\", \"Rain\", \"Sunny\", \"Overcast\", \"Overcast\", \"Rain\"],\n",
    "    \"Temp\": [\"Hot\", \"Hot\", \"Hot\", \"Mild\", \"Cool\", \"Cool\", \"Cool\", \"Mild\", \"Cool\", \"Mild\", \"Mild\", \"Mild\", \"Hot\", \"Mild\"],\n",
    "    \"Humidity\": [\"High\", \"High\", \"High\", \"High\", \"Normal\", \"Normal\", \"Normal\", \"High\", \"Normal\", \"Normal\", \"Normal\", \"High\", \"Normal\", \"High\"],\n",
    "    \"Wind\": [\"Weak\", \"Strong\", \"Weak\", \"Weak\", \"Weak\", \"Strong\", \"Strong\", \"Weak\", \"Weak\", \"Weak\", \"Strong\", \"Strong\", \"Weak\", \"Strong\"],\n",
    "    \"Play\": [\"No\", \"No\", \"Yes\", \"Yes\", \"Yes\", \"No\", \"Yes\", \"No\", \"Yes\", \"Yes\", \"Yes\", \"Yes\", \"Yes\", \"No\"]\n",
    "}\n",
    "\n",
    "df = pd.DataFrame(data)\n",
    "\n",
    "x = df.drop(\"Play\", axis=1)\n",
    "y = df[\"Play\"]\n",
    "\n",
    "x_train, x_test, y_train, y_test = train_test_split(x, y, test_size=0.3, random_state=42)\n",
    "\n",
    "class NaiveBayesClassifier:\n",
    "    def fit(self, x, y):\n",
    "        self.labels = y.unique()\n",
    "        self.features = list(x.columns)\n",
    "        self.total = len(y)\n",
    "        self.label_count = y.value_counts()\n",
    "        self.feature_probability = {}\n",
    "\n",
    "        for feature in self.features:\n",
    "            if feature not in self.feature_probability:\n",
    "                self.feature_probability[feature] = {}\n",
    "            for i in range(len(y)):\n",
    "                feature_value = x.iloc[i][feature]\n",
    "                label = y.iloc[i]\n",
    "\n",
    "                if feature_value not in self.feature_probability[feature]:\n",
    "                    self.feature_probability[feature][feature_value] = {}\n",
    "                if label not in self.feature_probability[feature][feature_value]:\n",
    "                    self.feature_probability[feature][feature_value][label] = 0\n",
    "                self.feature_probability[feature][feature_value][label] += 1\n",
    "\n",
    "    def predict(self, x):\n",
    "        result = []\n",
    "        for _, row in x.iterrows():\n",
    "            max_value = 0\n",
    "            max_label = None\n",
    "            for label in self.labels:\n",
    "                value = self.label_count[label] / self.total\n",
    "                for feature in row.index:\n",
    "                    feature_value = row[feature]\n",
    "                    if feature_value in self.feature_probability[feature] and label in self.feature_probability[feature][feature_value]:\n",
    "                        value *= self.feature_probability[feature][feature_value][label] / self.label_count[label]\n",
    "                    else:\n",
    "                        value = 0\n",
    "                        break\n",
    "                if value > max_value:\n",
    "                    max_value = value\n",
    "                    max_label = label\n",
    "            result.append(max_label)\n",
    "        return result\n",
    "\n",
    "nb = NaiveBayesClassifier()\n",
    "nb.fit(x_train, y_train)\n",
    "y_pred = nb.predict(x_test)\n",
    "\n",
    "accuracy = accuracy_score(y_test, y_pred) * 100\n",
    "print(f\"Accuracy of Naive Bayes classifier: {accuracy:.2f}%\")"
   ]
  },
  {
   "cell_type": "markdown",
   "id": "e5b7c5a9-f750-4486-8ef5-6b19b207f629",
   "metadata": {},
   "source": [
    "### From Scratch 2"
   ]
  },
  {
   "cell_type": "code",
   "execution_count": 34,
   "id": "6a8b45c6-1fb9-4560-bf04-195302fc50b2",
   "metadata": {},
   "outputs": [
    {
     "name": "stdout",
     "output_type": "stream",
     "text": [
      "Accuracy of Naive Bayes classifier: 60.00%\n"
     ]
    }
   ],
   "source": [
    "import pandas as pd\n",
    "from sklearn.model_selection import train_test_split\n",
    "from sklearn.preprocessing import LabelEncoder\n",
    "from collections import defaultdict\n",
    "import numpy as np\n",
    "from sklearn.metrics import accuracy_score\n",
    "\n",
    "data = {\n",
    "    \"Outlook\": [\"Sunny\", \"Sunny\", \"Overcast\", \"Rain\", \"Rain\", \"Rain\", \"Overcast\", \"Sunny\", \"Sunny\", \"Rain\", \"Sunny\", \"Overcast\", \"Overcast\", \"Rain\"],\n",
    "    \"Temp\": [\"Hot\", \"Hot\", \"Hot\", \"Mild\", \"Cool\", \"Cool\", \"Cool\", \"Mild\", \"Cool\", \"Mild\", \"Mild\", \"Mild\", \"Hot\", \"Mild\"],\n",
    "    \"Humidity\": [\"High\", \"High\", \"High\", \"High\", \"Normal\", \"Normal\", \"Normal\", \"High\", \"Normal\", \"Normal\", \"Normal\", \"High\", \"Normal\", \"High\"],\n",
    "    \"Wind\": [\"Weak\", \"Strong\", \"Weak\", \"Weak\", \"Weak\", \"Strong\", \"Strong\", \"Weak\", \"Weak\", \"Weak\", \"Strong\", \"Strong\", \"Weak\", \"Strong\"],\n",
    "    \"Play\": [\"No\", \"No\", \"Yes\", \"Yes\", \"Yes\", \"No\", \"Yes\", \"No\", \"Yes\", \"Yes\", \"Yes\", \"Yes\", \"Yes\", \"No\"]\n",
    "}\n",
    "\n",
    "df = pd.DataFrame(data)\n",
    "\n",
    "le = LabelEncoder()\n",
    "for column in df.columns:\n",
    "    df[column] = le.fit_transform(df[column])\n",
    "\n",
    "X = df.drop(columns=[\"Play\"])\n",
    "y = df[\"Play\"]\n",
    "\n",
    "X_train, X_test, y_train, y_test = train_test_split(X, y, test_size=0.3, random_state=42)\n",
    "\n",
    "class NaiveBayesClassifier:\n",
    "    def fit(self, X, y):\n",
    "        self.classes = np.unique(y)\n",
    "        self.class_counts = defaultdict(int)\n",
    "        self.feature_counts = defaultdict(lambda: defaultdict(lambda: defaultdict(int)))\n",
    "        self.total_samples = len(y)\n",
    "        \n",
    "        for i in range(len(y)):\n",
    "            label = y.iloc[i]\n",
    "            self.class_counts[label] += 1\n",
    "            for feature in X.columns:\n",
    "                self.feature_counts[label][feature][X.iloc[i][feature]] += 1\n",
    "    \n",
    "    def calculate_prior(self, cls):\n",
    "        return self.class_counts[cls] / self.total_samples\n",
    "    \n",
    "    def calculate_likelihood(self, cls, feature, feature_val):\n",
    "        feature_count = self.feature_counts[cls][feature].get(feature_val, 0)\n",
    "        return (feature_count + 1) / (self.class_counts[cls] + len(self.feature_counts[cls][feature]))\n",
    "    \n",
    "    def predict(self, X):\n",
    "        predictions = []\n",
    "        for _, row in X.iterrows():\n",
    "            class_probs = {}\n",
    "            for cls in self.classes:\n",
    "                class_prob = self.calculate_prior(cls)\n",
    "                for feature in X.columns:\n",
    "                    feature_val = row[feature]\n",
    "                    class_prob *= self.calculate_likelihood(cls, feature, feature_val)\n",
    "                class_probs[cls] = class_prob\n",
    "            predictions.append(max(class_probs, key=class_probs.get))\n",
    "        return predictions\n",
    "\n",
    "model = NaiveBayesClassifier()\n",
    "model.fit(X_train, y_train)\n",
    "y_pred = model.predict(X_test)\n",
    "\n",
    "accuracy = accuracy_score(y_test, y_pred) * 100\n",
    "print(f\"Accuracy of Naive Bayes classifier: {accuracy:.2f}%\")"
   ]
  },
  {
   "cell_type": "markdown",
   "id": "cd909fc2-88a5-4662-b84e-767c54a28773",
   "metadata": {},
   "source": [
    "### Using Library"
   ]
  },
  {
   "cell_type": "code",
   "execution_count": 32,
   "id": "917e7f8d-34c5-4ae0-90b5-88d8847551b4",
   "metadata": {},
   "outputs": [
    {
     "name": "stdout",
     "output_type": "stream",
     "text": [
      "Accuracy of Naive Bayes classifier: 60.00%\n"
     ]
    }
   ],
   "source": [
    "import pandas as pd\n",
    "from sklearn.model_selection import train_test_split\n",
    "from sklearn.preprocessing import LabelEncoder\n",
    "from sklearn.naive_bayes import GaussianNB\n",
    "from sklearn.metrics import accuracy_score\n",
    "\n",
    "data = {\n",
    "    \"Outlook\": [\"Sunny\", \"Sunny\", \"Overcast\", \"Rain\", \"Rain\", \"Rain\", \"Overcast\", \"Sunny\", \"Sunny\", \"Rain\", \"Sunny\", \"Overcast\", \"Overcast\", \"Rain\"],\n",
    "    \"Temp\": [\"Hot\", \"Hot\", \"Hot\", \"Mild\", \"Cool\", \"Cool\", \"Cool\", \"Mild\", \"Cool\", \"Mild\", \"Mild\", \"Mild\", \"Hot\", \"Mild\"],\n",
    "    \"Humidity\": [\"High\", \"High\", \"High\", \"High\", \"Normal\", \"Normal\", \"Normal\", \"High\", \"Normal\", \"Normal\", \"Normal\", \"High\", \"Normal\", \"High\"],\n",
    "    \"Wind\": [\"Weak\", \"Strong\", \"Weak\", \"Weak\", \"Weak\", \"Strong\", \"Strong\", \"Weak\", \"Weak\", \"Weak\", \"Strong\", \"Strong\", \"Weak\", \"Strong\"],\n",
    "    \"Play\": [\"No\", \"No\", \"Yes\", \"Yes\", \"Yes\", \"No\", \"Yes\", \"No\", \"Yes\", \"Yes\", \"Yes\", \"Yes\", \"Yes\", \"No\"]\n",
    "}\n",
    "\n",
    "df = pd.DataFrame(data)\n",
    "\n",
    "le = LabelEncoder()\n",
    "for column in df.columns:\n",
    "    df[column] = le.fit_transform(df[column])\n",
    "\n",
    "X = df.drop(columns=[\"Play\"])\n",
    "y = df[\"Play\"]\n",
    "\n",
    "X_train, X_test, y_train, y_test = train_test_split(X, y, test_size=0.3, random_state=42)\n",
    "\n",
    "model = GaussianNB()\n",
    "model.fit(X_train, y_train)\n",
    "\n",
    "y_pred = model.predict(X_test)\n",
    "\n",
    "accuracy = accuracy_score(y_test, y_pred)\n",
    "print(f\"Accuracy of Naive Bayes classifier: {accuracy * 100:.2f}%\")"
   ]
  }
 ],
 "metadata": {
  "kernelspec": {
   "display_name": "Python 3 (ipykernel)",
   "language": "python",
   "name": "python3"
  },
  "language_info": {
   "codemirror_mode": {
    "name": "ipython",
    "version": 3
   },
   "file_extension": ".py",
   "mimetype": "text/x-python",
   "name": "python",
   "nbconvert_exporter": "python",
   "pygments_lexer": "ipython3",
   "version": "3.11.4"
  }
 },
 "nbformat": 4,
 "nbformat_minor": 5
}
