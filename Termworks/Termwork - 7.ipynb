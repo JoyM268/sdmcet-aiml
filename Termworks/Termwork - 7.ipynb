{
 "cells": [
  {
   "cell_type": "markdown",
   "id": "239a10ad-b444-41d2-923e-1756ec7fab9b",
   "metadata": {},
   "source": [
    "## 7. Write a program to implement naive Bayesian classifier for a given data set. Compute the accuracy of the classifier."
   ]
  },
  {
   "cell_type": "code",
   "execution_count": 11,
   "id": "16cbaea2-7ab6-4213-a03a-97e98eaeecc4",
   "metadata": {},
   "outputs": [
    {
     "name": "stdout",
     "output_type": "stream",
     "text": [
      "Bernoulli Naïve Bayes Classifier Accuracy: 0.98\n"
     ]
    }
   ],
   "source": [
    "from sklearn.model_selection import train_test_split\n",
    "from sklearn.naive_bayes import BernoulliNB\n",
    "from sklearn.feature_extraction.text import CountVectorizer\n",
    "from sklearn.metrics import accuracy_score\n",
    "import pandas as pd\n",
    "\n",
    "# Load dataset\n",
    "df = pd.read_csv(\"../Datasets/Naive_spamham.csv\")\n",
    "\n",
    "# Ensure correct target variable selection\n",
    "X = df[\"text\"]  # Assuming the text column is named 'text'\n",
    "y = df[\"spam\"]  # Spam column as the target\n",
    "\n",
    "# Convert text to numerical features using CountVectorizer\n",
    "vectorizer = CountVectorizer(binary=True)  # Converts text into binary features\n",
    "X_transformed = vectorizer.fit_transform(X)\n",
    "\n",
    "# Split data into training and test sets\n",
    "X_train, X_test, y_train, y_test = train_test_split(X_transformed, y, test_size=0.2, random_state=42)\n",
    "\n",
    "# Initialize the Bernoulli Naïve Bayes classifier\n",
    "bnb_classifier = BernoulliNB()\n",
    "\n",
    "# Train the model\n",
    "bnb_classifier.fit(X_train, y_train)\n",
    "\n",
    "# Make predictions\n",
    "y_pred = bnb_classifier.predict(X_test)\n",
    "\n",
    "# Calculate accuracy\n",
    "accuracy = accuracy_score(y_test, y_pred)\n",
    "print(f\"Bernoulli Naïve Bayes Classifier Accuracy: {accuracy:.2f}\")\n"
   ]
  },
  {
   "cell_type": "code",
   "execution_count": null,
   "id": "3b43ee52-b988-4bd6-83f7-1215e1c2a60c",
   "metadata": {},
   "outputs": [],
   "source": []
  }
 ],
 "metadata": {
  "kernelspec": {
   "display_name": "Python 3 (ipykernel)",
   "language": "python",
   "name": "python3"
  },
  "language_info": {
   "codemirror_mode": {
    "name": "ipython",
    "version": 3
   },
   "file_extension": ".py",
   "mimetype": "text/x-python",
   "name": "python",
   "nbconvert_exporter": "python",
   "pygments_lexer": "ipython3",
   "version": "3.11.4"
  }
 },
 "nbformat": 4,
 "nbformat_minor": 5
}
