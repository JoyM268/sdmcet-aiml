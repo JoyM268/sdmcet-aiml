{
 "cells": [
  {
   "cell_type": "markdown",
   "id": "70afe4f0-e0d1-44b9-a4ac-dd8eb3726102",
   "metadata": {},
   "source": [
    "## 8. Write a program to implement k-Nearest Neighbour algorithm to classify the iris data set"
   ]
  },
  {
   "cell_type": "markdown",
   "id": "476bf1f8-aa8c-4676-9625-771291efda3b",
   "metadata": {},
   "source": [
    "### From Scratch"
   ]
  },
  {
   "cell_type": "code",
   "execution_count": null,
   "id": "b82a1cda-f809-4f5b-98ff-51b0ee7c659d",
   "metadata": {},
   "outputs": [],
   "source": []
  },
  {
   "cell_type": "markdown",
   "id": "84d83c65-a235-440d-9445-358b4427b73f",
   "metadata": {},
   "source": [
    "### Using Library"
   ]
  },
  {
   "cell_type": "code",
   "execution_count": null,
   "id": "f49dd862-dfb8-4025-bf10-f67499b416bd",
   "metadata": {},
   "outputs": [],
   "source": []
  }
 ],
 "metadata": {
  "kernelspec": {
   "display_name": "Python 3 (ipykernel)",
   "language": "python",
   "name": "python3"
  },
  "language_info": {
   "codemirror_mode": {
    "name": "ipython",
    "version": 3
   },
   "file_extension": ".py",
   "mimetype": "text/x-python",
   "name": "python",
   "nbconvert_exporter": "python",
   "pygments_lexer": "ipython3",
   "version": "3.11.4"
  }
 },
 "nbformat": 4,
 "nbformat_minor": 5
}
