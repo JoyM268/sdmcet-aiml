{
 "cells": [
  {
   "cell_type": "markdown",
   "id": "70afe4f0-e0d1-44b9-a4ac-dd8eb3726102",
   "metadata": {},
   "source": [
    "## 8. Write a program to implement k-Nearest Neighbour algorithm to classify the iris data set"
   ]
  },
  {
   "cell_type": "markdown",
   "id": "476bf1f8-aa8c-4676-9625-771291efda3b",
   "metadata": {},
   "source": [
    "### From Scratch"
   ]
  },
  {
   "cell_type": "code",
   "execution_count": 43,
   "id": "b82a1cda-f809-4f5b-98ff-51b0ee7c659d",
   "metadata": {},
   "outputs": [
    {
     "name": "stdout",
     "output_type": "stream",
     "text": [
      "Predicted Class: Iris-versicolor\n"
     ]
    }
   ],
   "source": [
    "import pandas as pd\n",
    "import numpy as np\n",
    "\n",
    "df = pd.read_csv(\"data/Dataset/iris.csv\")\n",
    "if 'Id' in df.columns:\n",
    "    df = df.drop(columns=['Id'])\n",
    "\n",
    "k = 5\n",
    "test = np.array([6.1, 3.0, 2.4, 1])\n",
    "\n",
    "data = df.iloc[:, :-1]\n",
    "distance = np.sqrt(((data - test) ** 2).sum(axis=1))\n",
    "df[\"Distance\"] = distance\n",
    "\n",
    "k_nearest = df.nsmallest(k, \"Distance\")[\"Species\"]\n",
    "print(\"Predicted Class:\", k_nearest.mode()[0])"
   ]
  },
  {
   "cell_type": "markdown",
   "id": "84d83c65-a235-440d-9445-358b4427b73f",
   "metadata": {},
   "source": [
    "### Using Library"
   ]
  },
  {
   "cell_type": "code",
   "execution_count": 46,
   "id": "10a648a9-2e32-4d21-ba86-90610e17642f",
   "metadata": {},
   "outputs": [
    {
     "name": "stdout",
     "output_type": "stream",
     "text": [
      "Predicted Class: Iris-versicolor\n"
     ]
    }
   ],
   "source": [
    "import pandas as pd\n",
    "import numpy as np\n",
    "from sklearn.neighbors import KNeighborsClassifier\n",
    "from sklearn.preprocessing import LabelEncoder\n",
    "\n",
    "df = pd.read_csv(\"data/Dataset/iris.csv\")\n",
    "\n",
    "if 'Id' in df.columns:\n",
    "    df = df.drop(columns=['Id'])\n",
    "\n",
    "X = df.iloc[:, :-1].values\n",
    "y = df.iloc[:, -1].values\n",
    "\n",
    "label_encoder = LabelEncoder()\n",
    "y = label_encoder.fit_transform(y)\n",
    "\n",
    "test = np.array([[6.1, 3.0, 2.4, 1]])\n",
    "\n",
    "k = 5\n",
    "knn = KNeighborsClassifier(n_neighbors=k)\n",
    "knn.fit(X, y)\n",
    "\n",
    "predicted_class = knn.predict(test)\n",
    "print(\"Predicted Class:\", label_encoder.inverse_transform(predicted_class)[0])"
   ]
  }
 ],
 "metadata": {
  "kernelspec": {
   "display_name": "Python 3 (ipykernel)",
   "language": "python",
   "name": "python3"
  },
  "language_info": {
   "codemirror_mode": {
    "name": "ipython",
    "version": 3
   },
   "file_extension": ".py",
   "mimetype": "text/x-python",
   "name": "python",
   "nbconvert_exporter": "python",
   "pygments_lexer": "ipython3",
   "version": "3.11.4"
  }
 },
 "nbformat": 4,
 "nbformat_minor": 5
}
