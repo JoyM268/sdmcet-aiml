{
 "cells": [
  {
   "cell_type": "markdown",
   "id": "6ace58c8-6393-46a9-98f4-ed5609cc08c1",
   "metadata": {},
   "source": [
    "## 1. Create a string and print its length using the len() function. "
   ]
  },
  {
   "cell_type": "code",
   "execution_count": 3,
   "id": "043b87e6-9311-45ca-85f9-d28c298784fd",
   "metadata": {},
   "outputs": [
    {
     "name": "stdout",
     "output_type": "stream",
     "text": [
      "The length of the string 'SDMCET' is 6\n"
     ]
    }
   ],
   "source": [
    "str1 = \"SDMCET\"\n",
    "print(f\"The length of the string '{str1}' is {len(str1)}\")"
   ]
  },
  {
   "cell_type": "markdown",
   "id": "1566e9bd-1773-4109-bb8a-4f873db1ad04",
   "metadata": {},
   "source": [
    "## 2. Create two strings, concatenate them, and print the resulting string.  "
   ]
  },
  {
   "cell_type": "code",
   "execution_count": 5,
   "id": "bca48c44-86a4-44e7-b0d9-d0055325a60d",
   "metadata": {},
   "outputs": [
    {
     "name": "stdout",
     "output_type": "stream",
     "text": [
      "The resultant string is HelloWorld\n"
     ]
    }
   ],
   "source": [
    "str1 = \"Hello\"\n",
    "str2 = \"World\"\n",
    "res = str1 + str2\n",
    "print(f\"The resultant string is {res}\")"
   ]
  },
  {
   "cell_type": "markdown",
   "id": "2d7504ae-5ff2-488e-88f1-76bece920292",
   "metadata": {},
   "source": [
    "## 3. Create two strings and use concatenation to add a space in between them. Then print the result.  "
   ]
  },
  {
   "cell_type": "code",
   "execution_count": 6,
   "id": "7d8f06ce-061c-47b4-9dd3-9e91ad2a9c46",
   "metadata": {},
   "outputs": [
    {
     "name": "stdout",
     "output_type": "stream",
     "text": [
      "The resultant string is Hello World\n"
     ]
    }
   ],
   "source": [
    "str1 = \"Hello\"\n",
    "str2 = \"World\"\n",
    "res = str1 + \" \" + str2\n",
    "print(f\"The resultant string is {res}\")"
   ]
  },
  {
   "cell_type": "markdown",
   "id": "7671ce39-6d5f-4fbd-9929-6fcb46f73a96",
   "metadata": {},
   "source": [
    "## 4. Print the string \"zing\" by using slice notation on the string \"bazinga\" to specify the correct range of characters. "
   ]
  },
  {
   "cell_type": "code",
   "execution_count": 11,
   "id": "b75b2648-0d67-4617-986f-f818f961ce3d",
   "metadata": {},
   "outputs": [
    {
     "name": "stdout",
     "output_type": "stream",
     "text": [
      "zing\n"
     ]
    }
   ],
   "source": [
    "str1 = \"bazinga\"\n",
    "print(str1[2:6])"
   ]
  },
  {
   "cell_type": "markdown",
   "id": "9a46eb02-d7e1-42d5-a243-07d3fc65751a",
   "metadata": {},
   "source": [
    "## 5. Write a script that converts the following strings to lowercase: \n",
    "## \"Animals\", \"Badger\", \"Honey Bee\", \"Honeybadger\".  \n",
    "## Print each lowercase string on a separate line. "
   ]
  },
  {
   "cell_type": "code",
   "execution_count": 12,
   "id": "60ef9f77-60b5-4537-9f3e-dfbc94e9b892",
   "metadata": {},
   "outputs": [
    {
     "name": "stdout",
     "output_type": "stream",
     "text": [
      "animals\n",
      "badger\n",
      "honey bee\n",
      "honeybadger\n"
     ]
    }
   ],
   "source": [
    "strings = [\"Animals\", \"Badger\", \"Honey Bee\", \"Honeybadger\"]\n",
    "for s in strings:\n",
    "    print(s.lower())"
   ]
  },
  {
   "cell_type": "markdown",
   "id": "4a1c6cdd-7d23-452f-bcaa-fcedb5585fd6",
   "metadata": {},
   "source": [
    "## 6. Repeat Exercise 1 but convert each string to uppercase instead of lowercase. "
   ]
  },
  {
   "cell_type": "code",
   "execution_count": 14,
   "id": "96af795b-5616-4c79-90bb-ffbe44393eb7",
   "metadata": {},
   "outputs": [
    {
     "name": "stdout",
     "output_type": "stream",
     "text": [
      "ANIMALS\n",
      "BADGER\n",
      "HONEY BEE\n",
      "HONEYBADGER\n"
     ]
    }
   ],
   "source": [
    "strings = [\"Animals\", \"Badger\", \"Honey Bee\", \"Honeybadger\"]\n",
    "for s in strings:\n",
    "    print(s.upper())"
   ]
  },
  {
   "cell_type": "markdown",
   "id": "6c5c94fe-e689-4402-83d2-bd974cd57bcf",
   "metadata": {},
   "source": [
    "## 7. Write a script that removes whitespace from the following strings:  \n",
    "<h2>string1 = \"&nbsp;&nbsp;&nbsp;Filet Mignon\"</h2>  \n",
    "<h2>string2 = \"Brisket&nbsp;&nbsp;&nbsp;\"</h2>\n"
   ]
  },
  {
   "cell_type": "code",
   "execution_count": 17,
   "id": "0a109c81-0936-40a1-82bc-1eb67a501489",
   "metadata": {},
   "outputs": [
    {
     "name": "stdout",
     "output_type": "stream",
     "text": [
      "String after removing whitespaces: Filet Mignon\n",
      "String after removing whitespaces: Brisket\n"
     ]
    }
   ],
   "source": [
    "string1 = \"       Filet Mignon\"\n",
    "string2 = \"Brisket      \"\n",
    "print(f\"String after removing whitespaces: {string1.lstrip()}\")\n",
    "print(f\"String after removing whitespaces: {string2.rstrip()}\")"
   ]
  }
 ],
 "metadata": {
  "kernelspec": {
   "display_name": "Python 3 (ipykernel)",
   "language": "python",
   "name": "python3"
  },
  "language_info": {
   "codemirror_mode": {
    "name": "ipython",
    "version": 3
   },
   "file_extension": ".py",
   "mimetype": "text/x-python",
   "name": "python",
   "nbconvert_exporter": "python",
   "pygments_lexer": "ipython3",
   "version": "3.11.4"
  }
 },
 "nbformat": 4,
 "nbformat_minor": 5
}
