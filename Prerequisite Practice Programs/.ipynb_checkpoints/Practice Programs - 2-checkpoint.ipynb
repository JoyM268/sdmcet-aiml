{
 "cells": [
  {
   "cell_type": "markdown",
   "id": "6ace58c8-6393-46a9-98f4-ed5609cc08c1",
   "metadata": {},
   "source": [
    "## 1. Create a string and print its length using the len() function. "
   ]
  },
  {
   "cell_type": "code",
   "execution_count": 2,
   "id": "043b87e6-9311-45ca-85f9-d28c298784fd",
   "metadata": {},
   "outputs": [
    {
     "name": "stdout",
     "output_type": "stream",
     "text": [
      "6\n"
     ]
    }
   ],
   "source": [
    "str1 = \"SDMCET\"\n",
    "print(f\"The length of the string \"{}{len(str1)}\")"
   ]
  },
  {
   "cell_type": "code",
   "execution_count": null,
   "id": "3a968b0f-bf38-4445-ab91-366bed5c2aca",
   "metadata": {},
   "outputs": [],
   "source": []
  }
 ],
 "metadata": {
  "kernelspec": {
   "display_name": "Python 3 (ipykernel)",
   "language": "python",
   "name": "python3"
  },
  "language_info": {
   "codemirror_mode": {
    "name": "ipython",
    "version": 3
   },
   "file_extension": ".py",
   "mimetype": "text/x-python",
   "name": "python",
   "nbconvert_exporter": "python",
   "pygments_lexer": "ipython3",
   "version": "3.11.4"
  }
 },
 "nbformat": 4,
 "nbformat_minor": 5
}
