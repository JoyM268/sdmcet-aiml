{
 "cells": [
  {
   "cell_type": "markdown",
   "id": "5e1e4413-739f-4a16-96a8-20fa8305ec9d",
   "metadata": {},
   "source": [
    "### 5. Write a program to implement the naïve Bayesian classifier for a given data set. Compute the accuracy of the classifier."
   ]
  },
  {
   "cell_type": "markdown",
   "id": "4110ca24-7dbf-4c8f-a60a-06e2bb2fe3bc",
   "metadata": {},
   "source": [
    "| Name         | Give Birth | Can Fly | Live in Water | Have Legs | Class        |\n",
    "|--------------|------------|---------|----------------|------------|--------------|\n",
    "| human        | yes        | no      | no             | yes        | mammals      |\n",
    "| python       | no         | no      | no             | no         | non-mammals  |\n",
    "| salmon       | no         | no      | yes            | no         | non-mammals  |\n",
    "| whale        | yes        | no      | yes            | no         | mammals      |\n",
    "| frog         | no         | no      | sometimes      | yes        | non-mammals  |\n",
    "| komodo       | no         | no      | no             | yes        | non-mammals  |\n",
    "| bat          | yes        | yes     | no             | yes        | mammals      |\n",
    "| pigeon       | no         | yes     | no             | yes        | non-mammals  |\n",
    "| cat          | yes        | no      | no             | yes        | mammals      |\n",
    "| leopard shark| yes        | no      | yes            | no         | non-mammals  |\n",
    "| turtle       | no         | no      | sometimes      | yes        | non-mammals  |\n",
    "| penguin      | no         | no      | sometimes      | yes        | non-mammals  |\n",
    "| porcupine    | yes        | no      | no             | yes        | mammals      |\n",
    "| eel          | no         | no      | yes            | no         | non-mammals  |\n",
    "| salamander   | no         | no      | sometimes      | yes        | non-mammals  |\n",
    "| gila monster | no         | no      | no             | yes        | non-mammals  |\n",
    "| platypus     | no         | no      | no             | yes        | mammals      |\n",
    "| owl          | no         | yes     | no             | yes        | non-mammals  |\n",
    "| dolphin      | yes        | no      | yes            | no         | mammals      |\n",
    "| eagle        | no         | yes     | no             | yes        | non-mammals  |\n"
   ]
  },
  {
   "cell_type": "code",
   "execution_count": 7,
   "id": "12d13c97-3823-4932-bd0e-5535a3c0c754",
   "metadata": {},
   "outputs": [
    {
     "name": "stdout",
     "output_type": "stream",
     "text": [
      "Accuracy of Naive Bayes classifier: 100.00%\n",
      "The Class of the given sample is:  non-mammals\n"
     ]
    }
   ],
   "source": [
    "import pandas as pd\n",
    "from sklearn.model_selection import train_test_split\n",
    "from sklearn.preprocessing import LabelEncoder\n",
    "from sklearn.naive_bayes import GaussianNB\n",
    "from sklearn.metrics import accuracy_score\n",
    "\n",
    "df = pd.read_csv(\"Datasets/mammals.csv\")\n",
    "\n",
    "encoders = {}\n",
    "for column in df.columns:\n",
    "    encoders[column] = LabelEncoder()\n",
    "    df[column] = encoders[column].fit_transform(df[column])\n",
    "\n",
    "X = df.drop([\"Name\", \"Class\"], axis=1)\n",
    "y = df[\"Class\"]\n",
    "\n",
    "X_train, X_test, y_train, y_test = train_test_split(X, y, test_size=0.3, random_state=42)\n",
    "\n",
    "model = GaussianNB()\n",
    "model.fit(X_train, y_train)\n",
    "\n",
    "y_pred = model.predict(X_test)\n",
    "\n",
    "accuracy = accuracy_score(y_test, y_pred)\n",
    "print(f\"Accuracy of Naive Bayes classifier: {accuracy * 100:.2f}%\")\n",
    "\n",
    "sample = pd.DataFrame([[\"yes\", \"no\", \"yes\", \"no\"]], columns=X.columns)\n",
    "for column in sample.columns:\n",
    "    sample[column] = encoders[column].fit_transform(sample[column])\n",
    "\n",
    "print(\"The Class of the given sample is: \", encoders[\"Class\"].inverse_transform(model.predict(sample))[0])"
   ]
  }
 ],
 "metadata": {
  "kernelspec": {
   "display_name": "Python 3 (ipykernel)",
   "language": "python",
   "name": "python3"
  },
  "language_info": {
   "codemirror_mode": {
    "name": "ipython",
    "version": 3
   },
   "file_extension": ".py",
   "mimetype": "text/x-python",
   "name": "python",
   "nbconvert_exporter": "python",
   "pygments_lexer": "ipython3",
   "version": "3.11.4"
  }
 },
 "nbformat": 4,
 "nbformat_minor": 5
}
