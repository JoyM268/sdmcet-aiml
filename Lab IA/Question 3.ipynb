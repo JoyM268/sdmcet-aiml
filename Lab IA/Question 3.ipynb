{
 "cells": [
  {
   "cell_type": "markdown",
   "id": "a75e6f1f-afa9-446b-ba90-cc1a447ab125",
   "metadata": {},
   "source": [
    "### 3. Write a program to implement k-Nearest Neighbor algorithm to classify the given data. (Both) "
   ]
  },
  {
   "cell_type": "markdown",
   "id": "f9b02d35-9839-4cb9-aa66-fcb67613dca3",
   "metadata": {},
   "source": [
    "| Brightness | Saturation | Class |\n",
    "|------------|------------|-------|\n",
    "| 40         | 20         | Red   |\n",
    "| 50         | 50         | Blue  |\n",
    "| 60         | 90         | Blue  |\n",
    "| 10         | 25         | Red   |\n",
    "| 70         | 70         | Blue  |\n",
    "| 60         | 10         | Red   |\n",
    "| 25         | 80         | Blue  |"
   ]
  },
  {
   "cell_type": "markdown",
   "id": "b4406968-fe1b-45c9-b3eb-859de112347d",
   "metadata": {},
   "source": [
    "### From Scratch"
   ]
  },
  {
   "cell_type": "code",
   "execution_count": 10,
   "id": "88a815e0-394a-4413-94dd-d4fcbb3bdcdf",
   "metadata": {},
   "outputs": [
    {
     "name": "stdout",
     "output_type": "stream",
     "text": [
      "Predicted Class: Red\n"
     ]
    }
   ],
   "source": [
    "import pandas as pd\n",
    "import numpy as np\n",
    "\n",
    "df = pd.read_csv(\"Datasets/color.csv\")\n",
    "\n",
    "k = 3\n",
    "test = np.array([20, 35])\n",
    "\n",
    "data = df.iloc[:, :-1]\n",
    "distance = np.sqrt(((data - test) ** 2).sum(axis=1))\n",
    "df[\"Distance\"] = distance\n",
    "\n",
    "k_nearest = df.nsmallest(k, \"Distance\")[\"Class\"]\n",
    "print(\"Predicted Class:\", k_nearest.mode()[0])"
   ]
  },
  {
   "cell_type": "markdown",
   "id": "edc6bab4-1723-4243-a6bd-51fd905f7f15",
   "metadata": {},
   "source": [
    "### Using Library"
   ]
  },
  {
   "cell_type": "code",
   "execution_count": 6,
   "id": "bb6a0121-ffd8-40a1-8453-0d9e1fa14dcc",
   "metadata": {},
   "outputs": [
    {
     "name": "stdout",
     "output_type": "stream",
     "text": [
      "Predicted Class: Red\n"
     ]
    }
   ],
   "source": [
    "import pandas as pd\n",
    "import numpy as np\n",
    "from sklearn.neighbors import KNeighborsClassifier\n",
    "from sklearn.preprocessing import LabelEncoder\n",
    "\n",
    "df = pd.read_csv(\"Datasets/color.csv\")\n",
    "x = df.iloc[:, :-1].values\n",
    "y = df.iloc[:, -1].values\n",
    "\n",
    "label_encoder = LabelEncoder()\n",
    "y = label_encoder.fit_transform(y)\n",
    "\n",
    "test = np.array([[20, 35]])\n",
    "\n",
    "k = 3\n",
    "knn = KNeighborsClassifier(n_neighbors=k)\n",
    "knn.fit(x, y)\n",
    "\n",
    "predicted_class = knn.predict(test)\n",
    "print(\"Predicted Class:\", label_encoder.inverse_transform(predicted_class)[0])"
   ]
  }
 ],
 "metadata": {
  "kernelspec": {
   "display_name": "Python 3 (ipykernel)",
   "language": "python",
   "name": "python3"
  },
  "language_info": {
   "codemirror_mode": {
    "name": "ipython",
    "version": 3
   },
   "file_extension": ".py",
   "mimetype": "text/x-python",
   "name": "python",
   "nbconvert_exporter": "python",
   "pygments_lexer": "ipython3",
   "version": "3.11.4"
  }
 },
 "nbformat": 4,
 "nbformat_minor": 5
}
