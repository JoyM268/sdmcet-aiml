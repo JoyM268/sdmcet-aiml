{
 "cells": [
  {
   "cell_type": "markdown",
   "id": "f934ac59-b754-4ba7-9aa7-5f03facb28e6",
   "metadata": {},
   "source": [
    "## 8. Write a program to implement Artificial Neural Network for the given data set data and apply this knowledge to classify a new sample "
   ]
  },
  {
   "cell_type": "code",
   "execution_count": 4,
   "id": "c823ab61-01d2-4d03-bebd-3cbf0f18467a",
   "metadata": {},
   "outputs": [
    {
     "name": "stdout",
     "output_type": "stream",
     "text": [
      "\n",
      "Confusion Matrix:\n",
      "[[50  0  0]\n",
      " [ 0 36 14]\n",
      " [ 0 13 37]]\n",
      "\n",
      "Weights between input and hidden layer:\n",
      "[[-5.62709449e-01 -6.60777548e-02  7.08623270e-01  6.20658418e-01\n",
      "   6.24923403e-02 -1.03711612e+00 -1.05224754e+00  8.52649659e-01\n",
      "   1.45987387e-01  7.29463367e-01]\n",
      " [-2.91147696e-01  1.25549703e+00  2.70651427e-02 -2.95013949e-01\n",
      "  -7.00557080e-01  3.61056489e-04  2.37039042e-01 -3.90046823e-01\n",
      "  -3.26068281e-01 -1.00638197e+00]]\n",
      "\n",
      "Biases of hidden layer:\n",
      "[ 0.10329142  0.05584578  0.37963168  0.17166233  0.43695363  0.60134572\n",
      " -0.22439249  0.72165828  0.65300542  0.16500115]\n",
      "\n",
      "Weights between hidden and output layer:\n",
      "[[ 0.06837004 -0.32462513 -0.86377465]\n",
      " [ 1.26136201  0.08428857  0.09697619]\n",
      " [-0.86992393 -0.37953621  0.84817237]\n",
      " [-0.47060522 -0.3774366   0.54026246]\n",
      " [-1.24226145  0.81163407 -0.19530199]\n",
      " [ 0.8459767  -0.28548015 -0.40998264]\n",
      " [ 0.77644708 -1.14894653  0.12981466]\n",
      " [-0.12856143  1.35870684  0.94631705]\n",
      " [-0.28774267  1.01986829 -0.18089518]\n",
      " [-1.13720661 -0.43985307  0.42908357]]\n",
      "\n",
      "Biases of output layer:\n",
      "[-0.06844324  0.00478379  0.19053316]\n",
      "\n",
      "Accuracy Score: 82.0\n",
      "\n",
      "Predicted Species: setosa\n"
     ]
    }
   ],
   "source": [
    "from sklearn.datasets import load_iris\n",
    "from sklearn.neural_network import MLPClassifier\n",
    "from sklearn.metrics import accuracy_score, confusion_matrix\n",
    "from sklearn.preprocessing import StandardScaler\n",
    "import numpy as np\n",
    "\n",
    "iris = load_iris()\n",
    "x = iris.data[:, :2]\n",
    "y = iris.target\n",
    "\n",
    "scaler = StandardScaler()\n",
    "x_scaled = scaler.fit_transform(x)\n",
    "model = MLPClassifier(hidden_layer_sizes=(10,), max_iter=2000, random_state=42)\n",
    "model.fit(x_scaled, y)\n",
    "\n",
    "predictions = model.predict(x_scaled)\n",
    "\n",
    "cm = confusion_matrix(y, predictions)\n",
    "print(\"\\nConfusion Matrix:\")\n",
    "print(cm)\n",
    "\n",
    "print(\"\\nWeights between input and hidden layer:\")\n",
    "print(model.coefs_[0])\n",
    "\n",
    "print(\"\\nBiases of hidden layer:\")\n",
    "print(model.intercepts_[0])\n",
    "\n",
    "print(\"\\nWeights between hidden and output layer:\")\n",
    "print(model.coefs_[1])\n",
    "\n",
    "print(\"\\nBiases of output layer:\")\n",
    "print(model.intercepts_[1])\n",
    "\n",
    "print(\"\\nAccuracy Score:\", accuracy_score(y, predictions) * 100)\n",
    "\n",
    "sample_input = np.array([[5.1, 3.5]])\n",
    "sample_input_scaled = scaler.transform(sample_input)\n",
    "predicted_class_index = model.predict(sample_input_scaled)\n",
    "predicted_species = iris.target_names[predicted_class_index[0]]\n",
    "print(f\"\\nPredicted Species: {predicted_species}\")"
   ]
  }
 ],
 "metadata": {
  "kernelspec": {
   "display_name": "Python 3 (ipykernel)",
   "language": "python",
   "name": "python3"
  },
  "language_info": {
   "codemirror_mode": {
    "name": "ipython",
    "version": 3
   },
   "file_extension": ".py",
   "mimetype": "text/x-python",
   "name": "python",
   "nbconvert_exporter": "python",
   "pygments_lexer": "ipython3",
   "version": "3.11.4"
  }
 },
 "nbformat": 4,
 "nbformat_minor": 5
}
