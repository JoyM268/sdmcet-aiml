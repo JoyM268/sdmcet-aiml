{
 "cells": [
  {
   "cell_type": "markdown",
   "id": "a4041299-4138-4f60-b2c7-81f75b4f94e4",
   "metadata": {},
   "source": [
    "## 3. Write a program to implement k-Nearest Neighbor algorithm to classify the given data (Both) "
   ]
  },
  {
   "cell_type": "markdown",
   "id": "fb0a7fe5-0702-4bfb-86a3-b9548e78789f",
   "metadata": {},
   "source": [
    "### Scratch:"
   ]
  },
  {
   "cell_type": "code",
   "execution_count": 4,
   "id": "4fad8819-f027-4378-91b3-300b6343c0fb",
   "metadata": {},
   "outputs": [
    {
     "name": "stdout",
     "output_type": "stream",
     "text": [
      "Predicted Class: Iris-versicolor\n"
     ]
    }
   ],
   "source": [
    "import pandas as pd\n",
    "import numpy as np\n",
    "\n",
    "df = pd.read_csv(\"Datasets/iris.csv\")\n",
    "df = df.drop(columns=['Id'])\n",
    "\n",
    "k = 5\n",
    "test = np.array([6.1, 3.0, 2.4, 1])\n",
    "\n",
    "data = df.iloc[:, :-1]\n",
    "distance = np.sqrt(((data - test) ** 2).sum(axis=1))\n",
    "df[\"Distance\"] = distance\n",
    "\n",
    "k_nearest = df.nsmallest(k, \"Distance\")[\"Species\"]\n",
    "print(\"Predicted Class:\", k_nearest.mode()[0])"
   ]
  },
  {
   "cell_type": "markdown",
   "id": "436ae1e6-c59a-45e9-9aab-96d3170ede14",
   "metadata": {},
   "source": [
    "### Library:"
   ]
  },
  {
   "cell_type": "code",
   "execution_count": 3,
   "id": "4ee66788-2cd0-48ce-b262-10687eaa43b6",
   "metadata": {},
   "outputs": [
    {
     "name": "stdout",
     "output_type": "stream",
     "text": [
      "Predicted Class: Iris-versicolor\n"
     ]
    }
   ],
   "source": [
    "import pandas as pd\n",
    "import numpy as np\n",
    "from sklearn.neighbors import KNeighborsClassifier\n",
    "from sklearn.preprocessing import LabelEncoder\n",
    "\n",
    "df = pd.read_csv(\"Datasets/iris.csv\")\n",
    "df = df.drop(columns=['Id'])\n",
    "\n",
    "x = df.iloc[:, :-1].values\n",
    "y = df.iloc[:, -1].values\n",
    "\n",
    "label_encoder = LabelEncoder()\n",
    "y = label_encoder.fit_transform(y)\n",
    "\n",
    "test = np.array([[6.1, 3.0, 2.4, 1]])\n",
    "\n",
    "k = 5\n",
    "knn = KNeighborsClassifier(n_neighbors=k)\n",
    "knn.fit(x, y)\n",
    "\n",
    "predicted_class = knn.predict(test)\n",
    "print(\"Predicted Class:\", label_encoder.inverse_transform(predicted_class)[0])"
   ]
  }
 ],
 "metadata": {
  "kernelspec": {
   "display_name": "Python 3 (ipykernel)",
   "language": "python",
   "name": "python3"
  },
  "language_info": {
   "codemirror_mode": {
    "name": "ipython",
    "version": 3
   },
   "file_extension": ".py",
   "mimetype": "text/x-python",
   "name": "python",
   "nbconvert_exporter": "python",
   "pygments_lexer": "ipython3",
   "version": "3.11.4"
  }
 },
 "nbformat": 4,
 "nbformat_minor": 5
}
