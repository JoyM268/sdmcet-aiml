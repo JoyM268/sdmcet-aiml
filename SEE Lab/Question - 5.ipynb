{
 "cells": [
  {
   "cell_type": "markdown",
   "id": "1a42f1ef-1927-4c80-8fce-d83c713cc529",
   "metadata": {},
   "source": [
    "## 5. Write a program to implement the naïve Bayesian classifier for a given data set. Compute the accuracy of the classifier and apply this knowledge to classify a new sample  "
   ]
  },
  {
   "cell_type": "code",
   "execution_count": 19,
   "id": "b62e9498-8988-4240-8515-2cec4dedda0f",
   "metadata": {},
   "outputs": [
    {
     "name": "stdout",
     "output_type": "stream",
     "text": [
      "Accuracy of Naive Bayes classifier: 60.00%\n",
      "\n",
      "The predicted decision for the sample is: No\n",
      "\n",
      "Confusion Matrix:\n",
      "[[1 1]\n",
      " [1 2]]\n"
     ]
    }
   ],
   "source": [
    "import pandas as pd\n",
    "from sklearn.model_selection import train_test_split\n",
    "from sklearn.preprocessing import LabelEncoder\n",
    "from sklearn.metrics import confusion_matrix\n",
    "from sklearn.naive_bayes import GaussianNB\n",
    "from sklearn.metrics import accuracy_score\n",
    "\n",
    "data = {\n",
    "    \"Outlook\": [\"Sunny\", \"Sunny\", \"Overcast\", \"Rain\", \"Rain\", \"Rain\", \"Overcast\", \"Sunny\", \"Sunny\", \"Rain\", \"Sunny\", \"Overcast\", \"Overcast\", \"Rain\"],\n",
    "    \"Temp\": [\"Hot\", \"Hot\", \"Hot\", \"Mild\", \"Cool\", \"Cool\", \"Cool\", \"Mild\", \"Cool\", \"Mild\", \"Mild\", \"Mild\", \"Hot\", \"Mild\"],\n",
    "    \"Humidity\": [\"High\", \"High\", \"High\", \"High\", \"Normal\", \"Normal\", \"Normal\", \"High\", \"Normal\", \"Normal\", \"Normal\", \"High\", \"Normal\", \"High\"],\n",
    "    \"Wind\": [\"Weak\", \"Strong\", \"Weak\", \"Weak\", \"Weak\", \"Strong\", \"Strong\", \"Weak\", \"Weak\", \"Weak\", \"Strong\", \"Strong\", \"Weak\", \"Strong\"],\n",
    "    \"Play\": [\"No\", \"No\", \"Yes\", \"Yes\", \"Yes\", \"No\", \"Yes\", \"No\", \"Yes\", \"Yes\", \"Yes\", \"Yes\", \"Yes\", \"No\"]\n",
    "}\n",
    "\n",
    "df = pd.DataFrame(data)\n",
    "encoders = {}\n",
    "for column in df.columns:\n",
    "    encoders[column] = LabelEncoder() \n",
    "    df[column] = encoders[column].fit_transform(df[column])\n",
    "\n",
    "X = df.drop(columns=[\"Play\"])\n",
    "y = df[\"Play\"]\n",
    "\n",
    "X_train, X_test, y_train, y_test = train_test_split(X, y, test_size=0.3, random_state=42)\n",
    "\n",
    "model = GaussianNB()\n",
    "model.fit(X_train, y_train)\n",
    "\n",
    "y_pred = model.predict(X_test)\n",
    "accuracy = accuracy_score(y_test, y_pred)\n",
    "print(f\"Accuracy of Naive Bayes classifier: {accuracy * 100:.2f}%\\n\")\n",
    "\n",
    "sample = pd.DataFrame([[\"Sunny\", \"Hot\", \"High\", \"Strong\"]], columns=X.columns)\n",
    "for column in X.columns:\n",
    "    sample[column] = encoders[column].transform(sample[column])\n",
    "\n",
    "result = model.predict(sample)\n",
    "print(f\"The predicted decision for the sample is: {encoders['Play'].inverse_transform(result)[0]}\")\n",
    "\n",
    "print(\"\\nConfusion Matrix:\")\n",
    "print(confusion_matrix(y_test, y_pred))"
   ]
  }
 ],
 "metadata": {
  "kernelspec": {
   "display_name": "Python 3 (ipykernel)",
   "language": "python",
   "name": "python3"
  },
  "language_info": {
   "codemirror_mode": {
    "name": "ipython",
    "version": 3
   },
   "file_extension": ".py",
   "mimetype": "text/x-python",
   "name": "python",
   "nbconvert_exporter": "python",
   "pygments_lexer": "ipython3",
   "version": "3.11.4"
  }
 },
 "nbformat": 4,
 "nbformat_minor": 5
}
